{
 "cells": [
  {
   "cell_type": "code",
   "execution_count": null,
   "metadata": {
    "collapsed": true
   },
   "outputs": [],
   "source": [
    "# initialise TPU on colab\n",
    "\n",
    "try:\n",
    "    from google.colab import drive\n",
    "    drive.mount('/content/drive', force_remount=True)\n",
    "\n",
    "    import os\n",
    "    import sys\n",
    "    os.chdir('./drive/MyDrive/NLP_Final/') # change directory to wherever your collab code is\n",
    "\n",
    "    #%% [code]\n",
    "    ! pip install -qqq \"torchvision\" \"torch>=1.6, <1.9\" \"torchmetrics>=0.3\" \"ipython[notebook]\" \"pytorch-lightning>=1.3\" \"torchtext\"\n",
    "    ! pip install -qqq cloud-tpu-client==0.10 https://storage.googleapis.com/tpu-pytorch/wheels/torch_xla-1.8-cp37-cp37m-linux_x86_64.whl\n",
    "\n",
    "    ## Install dependencies\n",
    "    ! pip install -qqq wget\n",
    "    ! apt-get -qqq install sox libsndfile1 ffmpeg\n",
    "    ! pip install -qqq unidecode\n",
    "    ! pip install -qqq matplotlib>=3.3.2\n",
    "    ! pip install transformers\n",
    "\n",
    "    ## Install NeMo\n",
    "    BRANCH = 'r1.6.1'\n",
    "    ! python -m pip install -qqq git+https://github.com/NVIDIA/NeMo.git@$BRANCH#egg=nemo_toolkit[all]\n",
    "\n",
    "    ! mkdir configs\n",
    "    ! wget -P configs/ https://raw.githubusercontent.com/NVIDIA/NeMo/$BRANCH/examples/asr/conf/config.yaml\n",
    "\n",
    "    datapath = './'\n",
    "    print(\"Running with Colab setup.\")\n",
    "    tpu_cores = 8\n",
    "    gpu_cores = None\n",
    "except(ModuleNotFoundError):\n",
    "    print('Initialising non-colab set-up...')\n",
    "    tpu_cores=None\n",
    "    gpu_cores=None\n",
    "    datapath = './'\n",
    "\n",
    "import os\n",
    "import trainer\n",
    "print(\"cwd: {}\".format(os.getcwd()))\n",
    "print(\"datapath: {}\".format(datapath))\n",
    "print('done.')"
   ]
  },
  {
   "cell_type": "code",
   "execution_count": null,
   "outputs": [],
   "source": [
    "trainer.main()\n"
   ],
   "metadata": {
    "collapsed": false,
    "pycharm": {
     "name": "#%%\n"
    }
   }
  }
 ],
 "metadata": {
  "kernelspec": {
   "display_name": "Python 3",
   "language": "python",
   "name": "python3"
  },
  "language_info": {
   "codemirror_mode": {
    "name": "ipython",
    "version": 2
   },
   "file_extension": ".py",
   "mimetype": "text/x-python",
   "name": "python",
   "nbconvert_exporter": "python",
   "pygments_lexer": "ipython2",
   "version": "2.7.6"
  }
 },
 "nbformat": 4,
 "nbformat_minor": 0
}