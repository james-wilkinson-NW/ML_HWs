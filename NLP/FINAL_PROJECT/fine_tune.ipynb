{
 "cells": [
  {
   "cell_type": "code",
   "execution_count": 1,
   "metadata": {
    "collapsed": true,
    "colab": {
     "base_uri": "https://localhost:8080/",
     "height": 381
    },
    "id": "CMK5ApYZHl-t",
    "outputId": "c52a6383-b3ef-412c-9868-2488db94e65c"
   },
   "outputs": [
    {
     "output_type": "error",
     "ename": "MessageError",
     "evalue": "ignored",
     "traceback": [
      "\u001B[0;31m---------------------------------------------------------------------------\u001B[0m",
      "\u001B[0;31mMessageError\u001B[0m                              Traceback (most recent call last)",
      "\u001B[0;32m<ipython-input-1-44903ae64ffe>\u001B[0m in \u001B[0;36m<module>\u001B[0;34m()\u001B[0m\n\u001B[1;32m      3\u001B[0m \u001B[0;32mtry\u001B[0m\u001B[0;34m:\u001B[0m\u001B[0;34m\u001B[0m\u001B[0;34m\u001B[0m\u001B[0m\n\u001B[1;32m      4\u001B[0m     \u001B[0;32mfrom\u001B[0m \u001B[0mgoogle\u001B[0m\u001B[0;34m.\u001B[0m\u001B[0mcolab\u001B[0m \u001B[0;32mimport\u001B[0m \u001B[0mdrive\u001B[0m\u001B[0;34m\u001B[0m\u001B[0;34m\u001B[0m\u001B[0m\n\u001B[0;32m----> 5\u001B[0;31m     \u001B[0mdrive\u001B[0m\u001B[0;34m.\u001B[0m\u001B[0mmount\u001B[0m\u001B[0;34m(\u001B[0m\u001B[0;34m'/content/drive'\u001B[0m\u001B[0;34m,\u001B[0m \u001B[0mforce_remount\u001B[0m\u001B[0;34m=\u001B[0m\u001B[0;32mTrue\u001B[0m\u001B[0;34m)\u001B[0m\u001B[0;34m\u001B[0m\u001B[0;34m\u001B[0m\u001B[0m\n\u001B[0m\u001B[1;32m      6\u001B[0m \u001B[0;34m\u001B[0m\u001B[0m\n\u001B[1;32m      7\u001B[0m     \u001B[0;32mimport\u001B[0m \u001B[0mos\u001B[0m\u001B[0;34m\u001B[0m\u001B[0;34m\u001B[0m\u001B[0m\n",
      "\u001B[0;32m/usr/local/lib/python3.7/dist-packages/google/colab/drive.py\u001B[0m in \u001B[0;36mmount\u001B[0;34m(mountpoint, force_remount, timeout_ms, use_metadata_server)\u001B[0m\n\u001B[1;32m    113\u001B[0m       \u001B[0mforce_remount\u001B[0m\u001B[0;34m=\u001B[0m\u001B[0mforce_remount\u001B[0m\u001B[0;34m,\u001B[0m\u001B[0;34m\u001B[0m\u001B[0;34m\u001B[0m\u001B[0m\n\u001B[1;32m    114\u001B[0m       \u001B[0mtimeout_ms\u001B[0m\u001B[0;34m=\u001B[0m\u001B[0mtimeout_ms\u001B[0m\u001B[0;34m,\u001B[0m\u001B[0;34m\u001B[0m\u001B[0;34m\u001B[0m\u001B[0m\n\u001B[0;32m--> 115\u001B[0;31m       ephemeral=True)\n\u001B[0m\u001B[1;32m    116\u001B[0m \u001B[0;34m\u001B[0m\u001B[0m\n\u001B[1;32m    117\u001B[0m \u001B[0;34m\u001B[0m\u001B[0m\n",
      "\u001B[0;32m/usr/local/lib/python3.7/dist-packages/google/colab/drive.py\u001B[0m in \u001B[0;36m_mount\u001B[0;34m(mountpoint, force_remount, timeout_ms, use_metadata_server, ephemeral)\u001B[0m\n\u001B[1;32m    133\u001B[0m   \u001B[0;32mif\u001B[0m \u001B[0mephemeral\u001B[0m\u001B[0;34m:\u001B[0m\u001B[0;34m\u001B[0m\u001B[0;34m\u001B[0m\u001B[0m\n\u001B[1;32m    134\u001B[0m     _message.blocking_request(\n\u001B[0;32m--> 135\u001B[0;31m         'request_auth', request={'authType': 'dfs_ephemeral'}, timeout_sec=None)\n\u001B[0m\u001B[1;32m    136\u001B[0m \u001B[0;34m\u001B[0m\u001B[0m\n\u001B[1;32m    137\u001B[0m   \u001B[0mmountpoint\u001B[0m \u001B[0;34m=\u001B[0m \u001B[0m_os\u001B[0m\u001B[0;34m.\u001B[0m\u001B[0mpath\u001B[0m\u001B[0;34m.\u001B[0m\u001B[0mexpanduser\u001B[0m\u001B[0;34m(\u001B[0m\u001B[0mmountpoint\u001B[0m\u001B[0;34m)\u001B[0m\u001B[0;34m\u001B[0m\u001B[0;34m\u001B[0m\u001B[0m\n",
      "\u001B[0;32m/usr/local/lib/python3.7/dist-packages/google/colab/_message.py\u001B[0m in \u001B[0;36mblocking_request\u001B[0;34m(request_type, request, timeout_sec, parent)\u001B[0m\n\u001B[1;32m    173\u001B[0m   request_id = send_request(\n\u001B[1;32m    174\u001B[0m       request_type, request, parent=parent, expect_reply=True)\n\u001B[0;32m--> 175\u001B[0;31m   \u001B[0;32mreturn\u001B[0m \u001B[0mread_reply_from_input\u001B[0m\u001B[0;34m(\u001B[0m\u001B[0mrequest_id\u001B[0m\u001B[0;34m,\u001B[0m \u001B[0mtimeout_sec\u001B[0m\u001B[0;34m)\u001B[0m\u001B[0;34m\u001B[0m\u001B[0;34m\u001B[0m\u001B[0m\n\u001B[0m",
      "\u001B[0;32m/usr/local/lib/python3.7/dist-packages/google/colab/_message.py\u001B[0m in \u001B[0;36mread_reply_from_input\u001B[0;34m(message_id, timeout_sec)\u001B[0m\n\u001B[1;32m    104\u001B[0m         reply.get('colab_msg_id') == message_id):\n\u001B[1;32m    105\u001B[0m       \u001B[0;32mif\u001B[0m \u001B[0;34m'error'\u001B[0m \u001B[0;32min\u001B[0m \u001B[0mreply\u001B[0m\u001B[0;34m:\u001B[0m\u001B[0;34m\u001B[0m\u001B[0;34m\u001B[0m\u001B[0m\n\u001B[0;32m--> 106\u001B[0;31m         \u001B[0;32mraise\u001B[0m \u001B[0mMessageError\u001B[0m\u001B[0;34m(\u001B[0m\u001B[0mreply\u001B[0m\u001B[0;34m[\u001B[0m\u001B[0;34m'error'\u001B[0m\u001B[0;34m]\u001B[0m\u001B[0;34m)\u001B[0m\u001B[0;34m\u001B[0m\u001B[0;34m\u001B[0m\u001B[0m\n\u001B[0m\u001B[1;32m    107\u001B[0m       \u001B[0;32mreturn\u001B[0m \u001B[0mreply\u001B[0m\u001B[0;34m.\u001B[0m\u001B[0mget\u001B[0m\u001B[0;34m(\u001B[0m\u001B[0;34m'data'\u001B[0m\u001B[0;34m,\u001B[0m \u001B[0;32mNone\u001B[0m\u001B[0;34m)\u001B[0m\u001B[0;34m\u001B[0m\u001B[0;34m\u001B[0m\u001B[0m\n\u001B[1;32m    108\u001B[0m \u001B[0;34m\u001B[0m\u001B[0m\n",
      "\u001B[0;31mMessageError\u001B[0m: Error: credential propagation was unsuccessful"
     ]
    }
   ],
   "source": [
    "# initialise TPU on colab\n",
    "\n",
    "try:\n",
    "    from google.colab import drive\n",
    "    drive.mount('/content/drive', force_remount=True)\n",
    "\n",
    "    import os\n",
    "    import sys\n",
    "    os.chdir('./drive/MyDrive/NLP_Final/') # change directory to wherever your collab code is\n",
    "\n",
    "    #%% [code]\n",
    "    ! pip install -qqq \"torchvision\" \"torch>=1.6, <1.9\" \"torchmetrics>=0.3\" \"ipython[notebook]\" \"pytorch-lightning>=1.3\" \"torchtext\"\n",
    "    ! pip install -qqq cloud-tpu-client==0.10 https://storage.googleapis.com/tpu-pytorch/wheels/torch_xla-1.8-cp37-cp37m-linux_x86_64.whl\n",
    "\n",
    "    ## Install dependencies\n",
    "    ! pip install -qqq wget\n",
    "    ! apt-get -qqq install sox libsndfile1 ffmpeg\n",
    "    ! pip install -qqq unidecode\n",
    "    ! pip install -qqq matplotlib>=3.3.2\n",
    "    ! pip install tranformers=2.8\n",
    "    ! pip install datasets\n",
    "    ! pip install -U nltk\n",
    "\n",
    "    ## Install NeMo\n",
    "    BRANCH = 'r1.6.1'\n",
    "    ! python -m pip install -qqq git+https://github.com/NVIDIA/NeMo.git@$BRANCH#egg=nemo_toolkit[all]\n",
    "\n",
    "    ! mkdir configs\n",
    "    ! wget -P configs/ https://raw.githubusercontent.com/NVIDIA/NeMo/$BRANCH/examples/asr/conf/config.yaml\n",
    "\n",
    "    datapath = './'\n",
    "    print(\"Running with Colab setup.\")\n",
    "    tpu_cores = 8\n",
    "    gpu_cores = None\n",
    "except(ModuleNotFoundError):\n",
    "    print('Initialising non-colab set-up...')\n",
    "    tpu_cores=None\n",
    "    gpu_cores=None\n",
    "    datapath = './'\n",
    "\n",
    "import os\n",
    "import trainer\n",
    "import dataset_gen\n",
    "print(\"cwd: {}\".format(os.getcwd()))\n",
    "print(\"datapath: {}\".format(datapath))\n",
    "print('done.')"
   ]
  },
  {
   "cell_type": "code",
   "execution_count": null,
   "outputs": [],
   "source": [
    "# First generate all the datasets we need, tagging and all\n",
    "situation='restaurant'\n",
    "dataset_gen.make_woz_datasets(True, situation=situation, tagging=False)\n",
    "dataset_gen.make_woz_datasets(False, situation=situation, tagging=False)\n",
    "dataset_gen.make_woz_datasets(True, situation=situation, tagging=True)\n",
    "dataset_gen.make_woz_datasets(False, situation=situation, tagging=True)"
   ],
   "metadata": {
    "collapsed": false,
    "pycharm": {
     "name": "#%%\n"
    }
   }
  },
  {
   "cell_type": "code",
   "execution_count": null,
   "outputs": [],
   "source": [
    "trainer.main()\n"
   ],
   "metadata": {
    "pycharm": {
     "name": "#%%\n"
    },
    "id": "-NTmbd7_Hl-x"
   }
  }
 ],
 "metadata": {
  "kernelspec": {
   "display_name": "Python 3",
   "language": "python",
   "name": "python3"
  },
  "language_info": {
   "codemirror_mode": {
    "name": "ipython",
    "version": 2
   },
   "file_extension": ".py",
   "mimetype": "text/x-python",
   "name": "python",
   "nbconvert_exporter": "python",
   "pygments_lexer": "ipython2",
   "version": "2.7.6"
  },
  "colab": {
   "name": "fine_tune.ipynb",
   "provenance": [],
   "collapsed_sections": []
  }
 },
 "nbformat": 4,
 "nbformat_minor": 0
}