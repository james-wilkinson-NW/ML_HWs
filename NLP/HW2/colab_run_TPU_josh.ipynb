{
  "nbformat": 4,
  "nbformat_minor": 0,
  "metadata": {
    "colab": {
      "name": "colab_run_TPU_josh.ipynb",
      "provenance": [],
      "collapsed_sections": [],
      "machine_shape": "hm"
    },
    "kernelspec": {
      "name": "python3",
      "display_name": "Python 3"
    },
    "language_info": {
      "name": "python"
    },
    "accelerator": "TPU"
  },
  "cells": [
    {
      "cell_type": "markdown",
      "source": [
        "Needs 3 text files with data, dataset.py, dataloader.py, and models (feedforward.py)"
      ],
      "metadata": {
        "id": "SkAjPPuv8JVS"
      }
    },
    {
      "cell_type": "code",
      "execution_count": null,
      "metadata": {
        "colab": {
          "base_uri": "https://localhost:8080/"
        },
        "id": "cgBVjIgmcba2",
        "outputId": "82770109-f726-4a3b-a29d-cbd1fcdf0a4a"
      },
      "outputs": [
        {
          "output_type": "stream",
          "name": "stdout",
          "text": [
            "\u001b[K     |████████████████████████████████| 804.1 MB 2.2 kB/s \n",
            "\u001b[K     |████████████████████████████████| 397 kB 81.2 MB/s \n",
            "\u001b[K     |████████████████████████████████| 527 kB 77.1 MB/s \n",
            "\u001b[K     |████████████████████████████████| 829 kB 74.5 MB/s \n",
            "\u001b[K     |████████████████████████████████| 596 kB 72.6 MB/s \n",
            "\u001b[K     |████████████████████████████████| 133 kB 78.4 MB/s \n",
            "\u001b[K     |████████████████████████████████| 952 kB 77.7 MB/s \n",
            "\u001b[33m  WARNING: Retrying (Retry(total=4, connect=None, read=None, redirect=None, status=None)) after connection broken by 'ProtocolError('Connection aborted.', ConnectionResetError(104, 'Connection reset by peer'))': /packages/dd/fe/80c594d62a7ff07730fd2cfc3a058498087436d8c938243e0610d1928f0e/aiohttp-3.8.1-cp37-cp37m-manylinux_2_5_x86_64.manylinux1_x86_64.manylinux_2_12_x86_64.manylinux2010_x86_64.whl\u001b[0m\n",
            "\u001b[K     |████████████████████████████████| 1.1 MB 5.1 MB/s \n",
            "\u001b[K     |████████████████████████████████| 23.2 MB 1.1 MB/s \n",
            "\u001b[K     |████████████████████████████████| 23.3 MB 1.1 MB/s \n",
            "\u001b[K     |████████████████████████████████| 23.3 MB 1.1 MB/s \n",
            "\u001b[K     |████████████████████████████████| 22.1 MB 1.1 MB/s \n",
            "\u001b[K     |████████████████████████████████| 22.1 MB 1.2 MB/s \n",
            "\u001b[K     |████████████████████████████████| 17.4 MB 27.8 MB/s \n",
            "\u001b[K     |████████████████████████████████| 8.0 MB 42.6 MB/s \n",
            "\u001b[K     |████████████████████████████████| 8.0 MB 71.0 MB/s \n",
            "\u001b[K     |████████████████████████████████| 7.6 MB 39.2 MB/s \n",
            "\u001b[K     |████████████████████████████████| 7.6 MB 45.3 MB/s \n",
            "\u001b[K     |████████████████████████████████| 7.1 MB 26.6 MB/s \n",
            "\u001b[K     |████████████████████████████████| 144 kB 73.5 MB/s \n",
            "\u001b[K     |████████████████████████████████| 94 kB 3.1 MB/s \n",
            "\u001b[K     |████████████████████████████████| 271 kB 82.9 MB/s \n",
            "\u001b[?25h  Building wheel for future (setup.py) ... \u001b[?25l\u001b[?25hdone\n",
            "\u001b[31mERROR: pip's dependency resolver does not currently take into account all the packages that are installed. This behaviour is the source of the following dependency conflicts.\n",
            "tensorflow 2.8.0 requires tf-estimator-nightly==2.8.0.dev2021122109, which is not installed.\n",
            "torchaudio 0.10.0+cu111 requires torch==1.10.0, but you have torch 1.8.1 which is incompatible.\n",
            "datascience 0.10.6 requires folium==0.2.1, but you have folium 0.8.3 which is incompatible.\u001b[0m\n",
            "Collecting torch-xla==1.8\n",
            "  Downloading https://storage.googleapis.com/tpu-pytorch/wheels/torch_xla-1.8-cp37-cp37m-linux_x86_64.whl (144.6 MB)\n",
            "\u001b[K     |████████████████████████████████| 144.6 MB 91 kB/s \n",
            "\u001b[?25hCollecting cloud-tpu-client==0.10\n",
            "  Downloading cloud_tpu_client-0.10-py3-none-any.whl (7.4 kB)\n",
            "Requirement already satisfied: oauth2client in /usr/local/lib/python3.7/dist-packages (from cloud-tpu-client==0.10) (4.1.3)\n",
            "Collecting google-api-python-client==1.8.0\n",
            "  Downloading google_api_python_client-1.8.0-py3-none-any.whl (57 kB)\n",
            "\u001b[K     |████████████████████████████████| 57 kB 2.7 MB/s \n",
            "\u001b[?25hRequirement already satisfied: google-api-core<2dev,>=1.13.0 in /usr/local/lib/python3.7/dist-packages (from google-api-python-client==1.8.0->cloud-tpu-client==0.10) (1.26.3)\n",
            "Requirement already satisfied: uritemplate<4dev,>=3.0.0 in /usr/local/lib/python3.7/dist-packages (from google-api-python-client==1.8.0->cloud-tpu-client==0.10) (3.0.1)\n",
            "Requirement already satisfied: google-auth>=1.4.1 in /usr/local/lib/python3.7/dist-packages (from google-api-python-client==1.8.0->cloud-tpu-client==0.10) (1.35.0)\n",
            "Requirement already satisfied: httplib2<1dev,>=0.9.2 in /usr/local/lib/python3.7/dist-packages (from google-api-python-client==1.8.0->cloud-tpu-client==0.10) (0.17.4)\n",
            "Requirement already satisfied: six<2dev,>=1.6.1 in /usr/local/lib/python3.7/dist-packages (from google-api-python-client==1.8.0->cloud-tpu-client==0.10) (1.15.0)\n",
            "Requirement already satisfied: google-auth-httplib2>=0.0.3 in /usr/local/lib/python3.7/dist-packages (from google-api-python-client==1.8.0->cloud-tpu-client==0.10) (0.0.4)\n",
            "Requirement already satisfied: googleapis-common-protos<2.0dev,>=1.6.0 in /usr/local/lib/python3.7/dist-packages (from google-api-core<2dev,>=1.13.0->google-api-python-client==1.8.0->cloud-tpu-client==0.10) (1.54.0)\n",
            "Requirement already satisfied: setuptools>=40.3.0 in /usr/local/lib/python3.7/dist-packages (from google-api-core<2dev,>=1.13.0->google-api-python-client==1.8.0->cloud-tpu-client==0.10) (59.5.0)\n",
            "Requirement already satisfied: pytz in /usr/local/lib/python3.7/dist-packages (from google-api-core<2dev,>=1.13.0->google-api-python-client==1.8.0->cloud-tpu-client==0.10) (2018.9)\n",
            "Requirement already satisfied: protobuf>=3.12.0 in /usr/local/lib/python3.7/dist-packages (from google-api-core<2dev,>=1.13.0->google-api-python-client==1.8.0->cloud-tpu-client==0.10) (3.17.3)\n",
            "Requirement already satisfied: packaging>=14.3 in /usr/local/lib/python3.7/dist-packages (from google-api-core<2dev,>=1.13.0->google-api-python-client==1.8.0->cloud-tpu-client==0.10) (21.3)\n",
            "Requirement already satisfied: requests<3.0.0dev,>=2.18.0 in /usr/local/lib/python3.7/dist-packages (from google-api-core<2dev,>=1.13.0->google-api-python-client==1.8.0->cloud-tpu-client==0.10) (2.23.0)\n",
            "Requirement already satisfied: pyasn1-modules>=0.2.1 in /usr/local/lib/python3.7/dist-packages (from google-auth>=1.4.1->google-api-python-client==1.8.0->cloud-tpu-client==0.10) (0.2.8)\n",
            "Requirement already satisfied: rsa<5,>=3.1.4 in /usr/local/lib/python3.7/dist-packages (from google-auth>=1.4.1->google-api-python-client==1.8.0->cloud-tpu-client==0.10) (4.8)\n",
            "Requirement already satisfied: cachetools<5.0,>=2.0.0 in /usr/local/lib/python3.7/dist-packages (from google-auth>=1.4.1->google-api-python-client==1.8.0->cloud-tpu-client==0.10) (4.2.4)\n",
            "Requirement already satisfied: pyparsing!=3.0.5,>=2.0.2 in /usr/local/lib/python3.7/dist-packages (from packaging>=14.3->google-api-core<2dev,>=1.13.0->google-api-python-client==1.8.0->cloud-tpu-client==0.10) (3.0.7)\n",
            "Requirement already satisfied: pyasn1<0.5.0,>=0.4.6 in /usr/local/lib/python3.7/dist-packages (from pyasn1-modules>=0.2.1->google-auth>=1.4.1->google-api-python-client==1.8.0->cloud-tpu-client==0.10) (0.4.8)\n",
            "Requirement already satisfied: urllib3!=1.25.0,!=1.25.1,<1.26,>=1.21.1 in /usr/local/lib/python3.7/dist-packages (from requests<3.0.0dev,>=2.18.0->google-api-core<2dev,>=1.13.0->google-api-python-client==1.8.0->cloud-tpu-client==0.10) (1.24.3)\n",
            "Requirement already satisfied: chardet<4,>=3.0.2 in /usr/local/lib/python3.7/dist-packages (from requests<3.0.0dev,>=2.18.0->google-api-core<2dev,>=1.13.0->google-api-python-client==1.8.0->cloud-tpu-client==0.10) (3.0.4)\n",
            "Requirement already satisfied: idna<3,>=2.5 in /usr/local/lib/python3.7/dist-packages (from requests<3.0.0dev,>=2.18.0->google-api-core<2dev,>=1.13.0->google-api-python-client==1.8.0->cloud-tpu-client==0.10) (2.10)\n",
            "Requirement already satisfied: certifi>=2017.4.17 in /usr/local/lib/python3.7/dist-packages (from requests<3.0.0dev,>=2.18.0->google-api-core<2dev,>=1.13.0->google-api-python-client==1.8.0->cloud-tpu-client==0.10) (2021.10.8)\n",
            "Installing collected packages: google-api-python-client, torch-xla, cloud-tpu-client\n",
            "  Attempting uninstall: google-api-python-client\n",
            "    Found existing installation: google-api-python-client 1.12.10\n",
            "    Uninstalling google-api-python-client-1.12.10:\n",
            "      Successfully uninstalled google-api-python-client-1.12.10\n",
            "\u001b[31mERROR: pip's dependency resolver does not currently take into account all the packages that are installed. This behaviour is the source of the following dependency conflicts.\n",
            "earthengine-api 0.1.298 requires google-api-python-client<2,>=1.12.1, but you have google-api-python-client 1.8.0 which is incompatible.\u001b[0m\n",
            "Successfully installed cloud-tpu-client-0.10 google-api-python-client-1.8.0 torch-xla-1.8\n",
            "Collecting wget\n",
            "  Downloading wget-3.2.zip (10 kB)\n",
            "Building wheels for collected packages: wget\n",
            "  Building wheel for wget (setup.py) ... \u001b[?25l\u001b[?25hdone\n",
            "  Created wheel for wget: filename=wget-3.2-py3-none-any.whl size=9675 sha256=94abf4e67dadb255af4de2e42533944973b44b9efdb001ef129a76ce22449e06\n",
            "  Stored in directory: /root/.cache/pip/wheels/a1/b6/7c/0e63e34eb06634181c63adacca38b79ff8f35c37e3c13e3c02\n",
            "Successfully built wget\n",
            "Installing collected packages: wget\n",
            "Successfully installed wget-3.2\n"
          ]
        }
      ],
      "source": [
        "! pip install --quiet \"torchvision\" \"torch>=1.6, <1.9\" \"torchmetrics>=0.3\" \"ipython[notebook]\" \"pytorch-lightning>=1.3\" \"torchtext\"\n",
        "! pip install cloud-tpu-client==0.10 https://storage.googleapis.com/tpu-pytorch/wheels/torch_xla-1.8-cp37-cp37m-linux_x86_64.whl\n",
        "\n",
        "## Install dependencies\n",
        "!pip install wget\n",
        "!apt-get install sox libsndfile1 ffmpeg\n",
        "!pip install unidecode\n",
        "!pip install matplotlib>=3.3.2\n",
        "\n",
        "## Install NeMo\n",
        "BRANCH = 'r1.6.1'\n",
        "!python -m pip install git+https://github.com/NVIDIA/NeMo.git@$BRANCH#egg=nemo_toolkit[all]\n",
        "\n",
        "!mkdir configs\n",
        "!wget -P configs/ https://raw.githubusercontent.com/NVIDIA/NeMo/$BRANCH/examples/asr/conf/config.yaml"
      ]
    },
    {
      "cell_type": "code",
      "source": [
        "import torch\n",
        "import torch.optim as optim\n",
        "import torch.nn as nn\n",
        "import numpy as np \n",
        "from torch.utils.data import DataLoader\n",
        "import torch.nn.functional as F\n",
        "from dataset import wiki_dataset\n",
        "from dataloader import wiki_dataloader\n",
        "import rnn\n",
        "import torchmetrics\n",
        "import pytorch_lightning as pl\n",
        "import pytorch_lightning.loggers as pl_loggers\n",
        "from pytorch_lightning.callbacks.early_stopping import EarlyStopping\n",
        "import matplotlib.pyplot as plt\n",
        "import nltk\n",
        "nltk.download('punkt')"
      ],
      "metadata": {
        "colab": {
          "base_uri": "https://localhost:8080/"
        },
        "id": "IPIRgRFrcgpB",
        "outputId": "1cc09bea-f968-498f-f062-dc8298c9084a"
      },
      "execution_count": null,
      "outputs": [
        {
          "output_type": "stream",
          "name": "stdout",
          "text": [
            "[nltk_data] Downloading package stopwords to /root/nltk_data...\n",
            "[nltk_data]   Package stopwords is already up-to-date!\n"
          ]
        },
        {
          "output_type": "stream",
          "name": "stderr",
          "text": [
            "WARNING:root:TPU has started up successfully with version pytorch-1.8\n"
          ]
        },
        {
          "output_type": "stream",
          "name": "stdout",
          "text": [
            "[nltk_data] Downloading package punkt to /root/nltk_data...\n",
            "[nltk_data]   Package punkt is already up-to-date!\n"
          ]
        },
        {
          "output_type": "execute_result",
          "data": {
            "text/plain": [
              "True"
            ]
          },
          "metadata": {},
          "execution_count": 1
        }
      ]
    },
    {
      "cell_type": "code",
      "source": [
        "  # Load datasets and dataloader - RNN \n",
        "  train = wiki_dataset('wiki.train.txt', training=True, token_map='create', window=30)\n",
        "  valid = wiki_dataset('wiki.valid.txt', training=False, token_map=train.token_map, window=30)\n",
        "  test = wiki_dataset('wiki.test.txt', training=False, token_map=train.token_map, window=30)\n",
        "  datasets = [train,valid,test]\n",
        "\n",
        "  dataloader = wiki_dataloader(datasets=datasets, batch_size=20)"
      ],
      "metadata": {
        "id": "BBEjciHgTo3j"
      },
      "execution_count": null,
      "outputs": []
    },
    {
      "cell_type": "code",
      "source": [
        "# RNN\n",
        "model = rnn.rnn(n_vocab = len(train.unique_tokens), embedding_size=100, hidden_size=100, num_layers=2, dropout=0, lr=1e-3, trainweights = torch.log(1. / train.token_count()))\n",
        "tb_logger = pl_loggers.TensorBoardLogger(\"RNN_logs/\", name=\"rnn\")\n",
        "trainer = pl.Trainer(logger=tb_logger, max_epochs=20, tpu_cores=8, gpus=None, callbacks=[EarlyStopping(monitor='val loss')])\n",
        "trainer.fit(model, dataloader)\n",
        "result = trainer.test(model, dataloader)\n",
        "print(result)"
      ],
      "metadata": {
        "id": "Cx92qvCWp2RB"
      },
      "execution_count": null,
      "outputs": []
    },
    {
      "cell_type": "code",
      "source": [
        "for idx in np.random.randint(0, 1000, size=10):\n",
        "    features, groundTruth = test[idx]\n",
        "    fpass = model.forward(features.unsqueeze(dim=0))\n",
        "    pred = np.argmax(torch.softmax(fpass.detach().squeeze(dim=0), 0))\n",
        "    sentence = ''.join([test.decode_int(i) for i in features])\n",
        "    nextword = test.decode_int(groundTruth)\n",
        "    nextpred = test.decode_int(pred)\n",
        "    print('{} ({}) [{}]'.format(sentence, nextword, nextpred))"
      ],
      "metadata": {
        "colab": {
          "base_uri": "https://localhost:8080/"
        },
        "id": "57UqaXJaWDiI",
        "outputId": "b479eb48-044d-48ae-dcd1-37eef122f248"
      },
      "execution_count": null,
      "outputs": [
        {
          "output_type": "stream",
          "name": "stdout",
          "text": [
            "calledgreatestchinesepoetsgreatestambitionservecountrysuccessfulcivilservantprovedunablemakenecessaryaccommodationslifelikewholecountrydevastated<unk>rebellion<unk>last<integer>yearstimealmostconstant (unrest) [<unk>]\n",
            "makenecessaryaccommodationslifelikewholecountrydevastated<unk>rebellion<unk>last<integer>yearstimealmostconstantunrestalthoughinitiallylittleknownwritersworkscamehugelyinfluentialchinesejapaneseliterary (culture) [<unk>]\n",
            "resulteither<unk>poemfailunderstandaltogetherstephenowensuggeststhirdfactorparticulardufuarguingvarietypoetworkrequiredconsiderationwholeliferather<unk><unk>usedlimitedpoetsearly (years) [<year>]\n",
            "film<unk>directedparis<unk>filmographyfilmtelevisiontheatredufudufuwadegilestufuchinese<unk><unk><integer>prominentchinesepoettangdynastyalongli<unk>li (po) [<unk>]\n",
            "charactertobysteelebillrecurringrole<year>twoepisodesbillcharacterconnorprice<year><unk>landedrolecraigepisodeteddystorytelevisionserieslongfirmstarredalongsideactorsmarkstrong (derek) [<unk>]\n",
            "<year>present<year><unk>starredplay<unk>writtenmark<unk>playpartseriesfeatureddifferent<unk>titledburn<unk><unk><year>interviewfellowactorben<unk>identified<unk>onefavorite (co) [<unk>]\n",
            "charlesspencernotedrobert<unk>bringstouchingvulnerabilitystagewilliam<unk>starredtwofilms<year><unk><unk>filmmakerparis<unk><unk>punchdirected<unk>blackburn<unk>portrayedcharacternamedsean (<unk>) [<unk>]\n",
            "grandfatherdu<unk>notedpoliticianpoetreignempresswudufuborn<unk>exactbirthplace<unk>nownexceptnearluoyanghenanprovincegongcountyfavouritecandidatelaterlifeconsideredbelongcapital (city) [<unk>]\n",
            "madeguestappearancetwopartepisodearctelevisionserieswakingdeadfollowedappearancetelevisionseries<unk><month><year>recurringroletenepisodestelevisionseries<unk><year><unk>fletcher<unk>starred (<year>) [<unk>]\n",
            "liferather<unk><unk>usedlimitedpoetsearlyyearsknowndufulifecomespoemspaternalgrandfatherdu<unk>notedpoliticianpoetreignempresswudufuborn<unk>exact (birthplace) [<unk>]\n"
          ]
        }
      ]
    },
    {
      "cell_type": "code",
      "source": [
        "%load_ext tensorboard\n",
        "# %reload_ext tensorboard\n",
        "%tensorboard --logdir ./RNN_logs/"
      ],
      "metadata": {
        "id": "HuwEeck5UdAL",
        "colab": {
          "base_uri": "https://localhost:8080/",
          "height": 838
        },
        "outputId": "4206470c-bbf7-4528-f791-e80768522456"
      },
      "execution_count": null,
      "outputs": [
        {
          "output_type": "display_data",
          "data": {
            "text/plain": [
              "Reusing TensorBoard on port 6006 (pid 76338), started 0:33:34 ago. (Use '!kill 76338' to kill it.)"
            ]
          },
          "metadata": {}
        },
        {
          "output_type": "display_data",
          "data": {
            "application/javascript": [
              "\n",
              "        (async () => {\n",
              "            const url = new URL(await google.colab.kernel.proxyPort(6006, {'cache': true}));\n",
              "            url.searchParams.set('tensorboardColab', 'true');\n",
              "            const iframe = document.createElement('iframe');\n",
              "            iframe.src = url;\n",
              "            iframe.setAttribute('width', '100%');\n",
              "            iframe.setAttribute('height', '800');\n",
              "            iframe.setAttribute('frameborder', 0);\n",
              "            document.body.appendChild(iframe);\n",
              "        })();\n",
              "    "
            ],
            "text/plain": [
              "<IPython.core.display.Javascript object>"
            ]
          },
          "metadata": {}
        }
      ]
    },
    {
      "cell_type": "code",
      "source": [
        "rnn.test_hparam('dropout', values=[0.2, 0.5, 0.8], tpu_cores=8, gpus=None)"
      ],
      "metadata": {
        "id": "doZ7SrYWbpfC"
      },
      "execution_count": null,
      "outputs": []
    }
  ]
}